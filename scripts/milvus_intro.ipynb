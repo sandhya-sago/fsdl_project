{
 "cells": [
  {
   "cell_type": "markdown",
   "metadata": {},
   "source": [
    "Demonstrates the basic operations of PyMilvus, a Python SDK of Milvus. Before running, make sure that you have a running Milvus instance.\n",
    "\n",
    "connect to Milvus\n",
    "create collection\n",
    "insert data\n",
    "create index\n",
    "search, query, and hybrid search on entities\n",
    "delete entities by PK\n",
    "drop collection"
   ]
  },
  {
   "cell_type": "markdown",
   "metadata": {},
   "source": [
    "https://github.com/milvus-io/pymilvus/blob/master/examples/hello_milvus.ipynb"
   ]
  },
  {
   "cell_type": "code",
   "execution_count": 28,
   "metadata": {},
   "outputs": [],
   "source": [
    "import numpy as np\n",
    "import time\n",
    "from pathlib import Path\n",
    "\n",
    "from pymilvus import (\n",
    "    connections,\n",
    "    utility,\n",
    "    FieldSchema, CollectionSchema, DataType,\n",
    "    Collection,\n",
    ")\n",
    "\n",
    "fmt = \"\\n=== {:30} ===\\n\"\n",
    "search_latency_fmt = \"search latency = {:.4f}s\"\n",
    "num_entities, dim = 3000, 8"
   ]
  },
  {
   "cell_type": "code",
   "execution_count": 25,
   "metadata": {},
   "outputs": [],
   "source": [
    "rng = np.random.default_rng(seed=19530)"
   ]
  },
  {
   "cell_type": "code",
   "execution_count": 43,
   "metadata": {},
   "outputs": [
    {
     "name": "stdout",
     "output_type": "stream",
     "text": [
      "Does collection hello_milvus exist in Milvus: False\n"
     ]
    }
   ],
   "source": [
    "connections.connect(\"default\", host=\"localhost\", port=\"19530\")\n",
    "\n",
    "has = utility.has_collection(\"test1\")\n",
    "print(f\"Does collection hello_milvus exist in Milvus: {has}\")"
   ]
  },
  {
   "cell_type": "code",
   "execution_count": 67,
   "metadata": {},
   "outputs": [
    {
     "name": "stderr",
     "output_type": "stream",
     "text": [
      "ftfy or spacy is not installed using BERT BasicTokenizer instead of ftfy.\n"
     ]
    }
   ],
   "source": [
    "# %load ../image_retreival/clip_embeddings\n",
    "\n",
    "from sentence_transformers import SentenceTransformer\n",
    "import glob\n",
    "import numpy as np\n",
    "from PIL import Image\n",
    "\n",
    "img_model = SentenceTransformer('clip-ViT-B-32')\n",
    "img_names = list(glob.glob('./data/photos/*.jpg'))\n",
    "\n",
    "def encode_img(img_model,img_names):\n",
    "    print(\"Images:\", len(img_names))\n",
    "\n",
    "    #non-multilingual CLIP Model\n",
    "    img_emb = img_model.encode([Image.open(filepath) for filepath in img_names[:10]], batch_size=128, convert_to_tensor=True, show_progress_bar=True)\n",
    "    img_emb = img_emb /  np.linalg.norm(img_emb, axis=1, keepdims=True)\n",
    "    return img_emb, img_names"
   ]
  },
  {
   "cell_type": "code",
   "execution_count": 12,
   "metadata": {},
   "outputs": [
    {
     "data": {
      "text/plain": [
       "24996"
      ]
     },
     "execution_count": 12,
     "metadata": {},
     "output_type": "execute_result"
    }
   ],
   "source": [
    "img_names = list(glob.glob('../data/photos/*.jpg'))\n",
    "len(img_names)"
   ]
  },
  {
   "cell_type": "code",
   "execution_count": 14,
   "metadata": {},
   "outputs": [
    {
     "name": "stdout",
     "output_type": "stream",
     "text": [
      "Images: 24996\n"
     ]
    },
    {
     "data": {
      "application/json": {
       "ascii": false,
       "bar_format": null,
       "colour": null,
       "elapsed": 0.058322906494140625,
       "initial": 0,
       "n": 0,
       "ncols": null,
       "nrows": 24,
       "postfix": null,
       "prefix": "Batches",
       "rate": null,
       "total": 1,
       "unit": "it",
       "unit_divisor": 1000,
       "unit_scale": false
      },
      "application/vnd.jupyter.widget-view+json": {
       "model_id": "e761dc9295534f9e87240e3e772cca9b",
       "version_major": 2,
       "version_minor": 0
      },
      "text/plain": [
       "Batches:   0%|          | 0/1 [00:00<?, ?it/s]"
      ]
     },
     "metadata": {},
     "output_type": "display_data"
    }
   ],
   "source": [
    "img_emb,img_names = encode_img(img_model,img_names)"
   ]
  },
  {
   "cell_type": "code",
   "execution_count": 20,
   "metadata": {},
   "outputs": [],
   "source": [
    "img_emb_np = img_emb.detach().numpy()"
   ]
  },
  {
   "cell_type": "code",
   "execution_count": 18,
   "metadata": {},
   "outputs": [],
   "source": [
    "np.save(\"../data/test_embed.npy\",img_emb.detach().numpy())"
   ]
  },
  {
   "cell_type": "code",
   "execution_count": 42,
   "metadata": {},
   "outputs": [],
   "source": [
    "#utility.drop_collection(\"test1\")"
   ]
  },
  {
   "cell_type": "code",
   "execution_count": 44,
   "metadata": {},
   "outputs": [],
   "source": [
    "num_entities, dim = 10, 512"
   ]
  },
  {
   "cell_type": "code",
   "execution_count": 54,
   "metadata": {},
   "outputs": [],
   "source": [
    "fields = [\n",
    "    FieldSchema(name=\"fname\", dtype=DataType.INT64, is_primary=True, auto_id=False, max_length=100),\n",
    "    FieldSchema(name=\"random\", dtype=DataType.DOUBLE),\n",
    "    FieldSchema(name=\"embeddings\", dtype=DataType.FLOAT_VECTOR, dim=dim)\n",
    "]\n",
    "\n",
    "schema = CollectionSchema(fields, \"hello_milvus is the simplest demo to introduce the APIs\")\n",
    "\n",
    "hello_milvus = Collection(\"test1\", schema, consistency_level=\"Strong\")"
   ]
  },
  {
   "cell_type": "code",
   "execution_count": 48,
   "metadata": {},
   "outputs": [
    {
     "data": {
      "text/plain": [
       "10"
      ]
     },
     "execution_count": 48,
     "metadata": {},
     "output_type": "execute_result"
    }
   ],
   "source": [
    "fnames = {idx: i.split(\"/\")[-1].split(\".\")[0] for idx, i in enumerate(img_names[:num_entities])}\n",
    "len(fnames)"
   ]
  },
  {
   "cell_type": "code",
   "execution_count": 51,
   "metadata": {},
   "outputs": [
    {
     "data": {
      "text/plain": [
       "[0, 1, 2, 3, 4, 5, 6, 7, 8, 9]"
      ]
     },
     "execution_count": 51,
     "metadata": {},
     "output_type": "execute_result"
    }
   ],
   "source": [
    "list(fnames.keys())"
   ]
  },
  {
   "cell_type": "code",
   "execution_count": 52,
   "metadata": {},
   "outputs": [
    {
     "data": {
      "text/plain": [
       "[[0, 1, 2, 3, 4, 5, 6, 7, 8, 9],\n",
       " [0.03539747517805536,\n",
       "  0.7917858816321333,\n",
       "  0.9634580710517987,\n",
       "  0.7769574961455377,\n",
       "  0.9158904944704735,\n",
       "  0.19604735640309023,\n",
       "  0.4539412342285505,\n",
       "  0.7759238287816242,\n",
       "  0.4751541013084166,\n",
       "  0.5435670482374748],\n",
       " array([[ 0.02169453, -0.02511793, -0.00447961, ...,  0.01452356,\n",
       "          0.0413039 , -0.00763403],\n",
       "        [-0.00709092, -0.00226662,  0.00256219, ...,  0.00291399,\n",
       "          0.01496236,  0.0149281 ],\n",
       "        [ 0.0128168 ,  0.02356843,  0.0500972 , ...,  0.0153697 ,\n",
       "         -0.00603879,  0.00370851],\n",
       "        ...,\n",
       "        [ 0.01146269,  0.04268388, -0.003989  , ...,  0.01373177,\n",
       "         -0.0011    , -0.00875279],\n",
       "        [ 0.04586982,  0.03013872, -0.0162409 , ...,  0.00538639,\n",
       "          0.02090447,  0.00427006],\n",
       "        [ 0.0137448 ,  0.03019687,  0.00593366, ...,  0.05473933,\n",
       "          0.00406447,  0.00419127]], dtype=float32)]"
      ]
     },
     "execution_count": 52,
     "metadata": {},
     "output_type": "execute_result"
    }
   ],
   "source": [
    "entities = [list(fnames.keys()), # provide the fname field because `auto_id` is set to False\n",
    "            rng.random(num_entities).tolist(), # field random, only supports list\n",
    "            img_emb_np]  # field embeddings, supports numpy.ndarray and list\n",
    "entities"
   ]
  },
  {
   "cell_type": "markdown",
   "metadata": {},
   "source": [
    "## Insert Data"
   ]
  },
  {
   "cell_type": "code",
   "execution_count": 55,
   "metadata": {},
   "outputs": [
    {
     "name": "stdout",
     "output_type": "stream",
     "text": [
      "Number of entities in Milvus: 10\n"
     ]
    }
   ],
   "source": [
    "insert_result = hello_milvus.insert(entities)\n",
    "\n",
    "print(f\"Number of entities in Milvus: {hello_milvus.num_entities}\")  # check the num_entites"
   ]
  },
  {
   "cell_type": "code",
   "execution_count": 56,
   "metadata": {},
   "outputs": [
    {
     "data": {
      "text/plain": [
       "Status(code=0, message='')"
      ]
     },
     "execution_count": 56,
     "metadata": {},
     "output_type": "execute_result"
    }
   ],
   "source": [
    "index = {\n",
    "    \"index_type\": \"IVF_FLAT\",\n",
    "    \"metric_type\": \"L2\",\n",
    "    \"params\": {\"nlist\": 128},\n",
    "}\n",
    "\n",
    "hello_milvus.create_index(\"embeddings\", index)"
   ]
  },
  {
   "cell_type": "code",
   "execution_count": 57,
   "metadata": {},
   "outputs": [],
   "source": [
    "hello_milvus.load()"
   ]
  },
  {
   "cell_type": "code",
   "execution_count": 58,
   "metadata": {},
   "outputs": [
    {
     "data": {
      "text/plain": [
       "<Collection>:\n",
       "-------------\n",
       "<name>: test1\n",
       "<partitions>: [{\"name\": \"_default\", \"collection_name\": \"test1\", \"description\": \"\"}]\n",
       "<description>: hello_milvus is the simplest demo to introduce the APIs\n",
       "<schema>: {\n",
       "  auto_id: False\n",
       "  description: hello_milvus is the simplest demo to introduce the APIs\n",
       "  fields: [{\n",
       "    name: fname\n",
       "    description: \n",
       "    type: 5\n",
       "    is_primary: True\n",
       "    auto_id: False\n",
       "  }, {\n",
       "    name: random\n",
       "    description: \n",
       "    type: 11\n",
       "  }, {\n",
       "    name: embeddings\n",
       "    description: \n",
       "    type: 101\n",
       "    params: {'dim': 512}\n",
       "  }]\n",
       "}"
      ]
     },
     "execution_count": 58,
     "metadata": {},
     "output_type": "execute_result"
    }
   ],
   "source": [
    "hello_milvus"
   ]
  },
  {
   "cell_type": "code",
   "execution_count": 62,
   "metadata": {},
   "outputs": [
    {
     "data": {
      "text/plain": [
       "2"
      ]
     },
     "execution_count": 62,
     "metadata": {},
     "output_type": "execute_result"
    }
   ],
   "source": [
    "len(entities[-1][-2:])"
   ]
  },
  {
   "cell_type": "code",
   "execution_count": 65,
   "metadata": {},
   "outputs": [
    {
     "name": "stdout",
     "output_type": "stream",
     "text": [
      "hit: (distance: 0.0, id: 8), random field: 8\n",
      "hit: (distance: 0.4052489399909973, id: 7), random field: 7\n",
      "hit: (distance: 0.5453382730484009, id: 1), random field: 1\n",
      "hit: (distance: 0.0, id: 9), random field: 9\n",
      "hit: (distance: 0.5733288526535034, id: 5), random field: 5\n",
      "hit: (distance: 0.6993972063064575, id: 2), random field: 2\n",
      "search latency = 0.2803s\n"
     ]
    }
   ],
   "source": [
    "vectors_to_search = entities[-1][-2:]\n",
    "search_params = {\n",
    "    \"metric_type\": \"L2\",\n",
    "    \"params\": {\"nprobe\": 10},\n",
    "}\n",
    "\n",
    "start_time = time.time()\n",
    "result = hello_milvus.search(vectors_to_search, \"embeddings\", search_params, limit=3, output_fields=[\"fname\"])\n",
    "end_time = time.time()\n",
    "\n",
    "for hits in result:\n",
    "    for hit in hits:\n",
    "        print(f\"hit: {hit}, random field: {hit.entity.get('fname')}\")\n",
    "print(search_latency_fmt.format(end_time - start_time))"
   ]
  },
  {
   "cell_type": "code",
   "execution_count": null,
   "metadata": {},
   "outputs": [],
   "source": []
  }
 ],
 "metadata": {
  "kernelspec": {
   "display_name": "Python 3.7.13 ('fsdl_project')",
   "language": "python",
   "name": "python3"
  },
  "language_info": {
   "codemirror_mode": {
    "name": "ipython",
    "version": 3
   },
   "file_extension": ".py",
   "mimetype": "text/x-python",
   "name": "python",
   "nbconvert_exporter": "python",
   "pygments_lexer": "ipython3",
   "version": "3.7.13"
  },
  "vscode": {
   "interpreter": {
    "hash": "c780ef0594e65f238ce4b7709383a32ec817000a69d6eb9e5729600e2ac1a6db"
   }
  }
 },
 "nbformat": 4,
 "nbformat_minor": 2
}
